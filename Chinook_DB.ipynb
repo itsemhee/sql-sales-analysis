{
 "cells": [
  {
   "cell_type": "markdown",
   "id": "468d8a6a-9dea-4287-9bac-9374f23a3076",
   "metadata": {},
   "source": [
    "### PROJECT - SQL-BASED ANALYSIS OF PRODUCT SALES\n",
    "## Project Summary  \n",
    "\n",
    "This project involved analyzing music store sales data using SQL and Python (SQLite + Pandas).  \n",
    "The goal was to explore revenue trends, customer behavior, and product performance.  \n",
    "\n",
    "Key steps included:  \n",
    "- **Data Cleaning & Exploration** – Checked tables, relationships, and key attributes.  \n",
    "- **Sales Analysis** – Calculated total sales by joining invoices, invoice lines, and tracks.  \n",
    "- **Top Products & Albums** – Identified best-selling tracks and albums.  \n",
    "- **Regional Insights** – Compared revenue across different countries.  \n",
    "- **Time-based Trends** – Analyzed monthly revenue to detect seasonal patterns."
   ]
  },
  {
   "cell_type": "code",
   "execution_count": null,
   "id": "2806a5c7-67f1-49ff-b9f4-1d0875d2b925",
   "metadata": {},
   "outputs": [],
   "source": [
    "#import required libraries\n",
    "import numpy as np \n",
    "import pandas as pd \n",
    "import sqlite3\n",
    "import matplotlib.pyplot as plt"
   ]
  },
  {
   "cell_type": "code",
   "execution_count": null,
   "id": "2d68d363-f1a9-4a3e-b0fd-c82b821fd530",
   "metadata": {},
   "outputs": [],
   "source": [
    "#connect to SQLite\n",
    "conn = sqlite3.connect(r\"C:\\Users\\ud\\Desktop\\Chinook_Sqlite.sqlite\")\n",
    "\n",
    "#show all tables in the database\n",
    "tables = pd.read_sql_query(\"SELECT name FROM sqlite_master WHERE type='table';\", conn)\n",
    "print(tables)"
   ]
  },
  {
   "cell_type": "code",
   "execution_count": null,
   "id": "da39677d-7e73-4bb5-bfcd-c95d11a3106f",
   "metadata": {},
   "outputs": [],
   "source": [
    "#list of all tables\n",
    "tables = pd.read_sql_query(\n",
    "    \"SELECT name FROM sqlite_master WHERE type='table';\", conn\n",
    ")\n",
    "\n",
    "for table in tables['name']: #loop through tables\n",
    "    print(f\"\\n Table: {table}\")\n",
    "    cols = pd.read_sql_query(f\"PRAGMA table_info({table});\", conn)\n",
    "    print(cols[['name', 'type']])  # only show column names and data type"
   ]
  },
  {
   "cell_type": "code",
   "execution_count": null,
   "id": "9112bdcc-63ca-408d-8315-ba221dd2675f",
   "metadata": {},
   "outputs": [],
   "source": [
    "#top selling products\n",
    "query= \"\"\" \n",
    "SELECT t.Name AS Track,\n",
    "       a.Title AS Album,\n",
    "       SUM(il.UnitPrice * il.Quantity) AS Total_Sales\n",
    "FROM InvoiceLine AS il\n",
    "JOIN Track AS t \n",
    "ON il.TrackId = t.TrackId\n",
    "JOIN Album AS a \n",
    "ON t.AlbumId = a.AlbumId\n",
    "GROUP BY t.TrackId\n",
    "ORDER BY Total_Sales DESC\n",
    "LIMIT 10;\n",
    "\"\"\"\n",
    "top_products = pd.read_sql_query(query, conn)\n",
    "print(top_products)"
   ]
  },
  {
   "cell_type": "markdown",
   "id": "f13c9231-c161-4ce0-8fcf-004da6e968d1",
   "metadata": {},
   "source": [
    "### Insights from Top-Selling Products\n",
    "- TV series soundtracks dominate sales, with shows like The Office and Heroes contributing multiple top-selling tracks. This indicates a strong customer interest in popular culture and TV-related contents. \n",
    "- Most bestsellers are priced at $3.98, showing that this price point is highly effective in driving sales  \n",
    "- Customers favor purchasing individual tracks/episodes rather than entire albums, suggesting convenience and selectivity drive buying behavior. \n",
    "- Repeat sales from shows across multiple seasons (e.g., *The Office*) highlight strong fan bases. "
   ]
  },
  {
   "cell_type": "code",
   "execution_count": null,
   "id": "be513d3d-52ba-4f14-84cb-8ce49bc4732d",
   "metadata": {},
   "outputs": [],
   "source": [
    "#revenue by Region\n",
    "query = \"\"\"\n",
    "SELECT c.Country,\n",
    "       ROUND(SUM(i.Total), 2) AS Revenue\n",
    "FROM Invoice AS i\n",
    "JOIN Customer AS c \n",
    "ON i.CustomerId = c.CustomerId\n",
    "GROUP BY c.Country\n",
    "ORDER BY Revenue DESC\n",
    "LIMIT 10;\n",
    "\"\"\"\n",
    "revenue_region = pd.read_sql_query(query, conn)\n",
    "print(revenue_region)"
   ]
  },
  {
   "cell_type": "markdown",
   "id": "d595b828-7bfb-4627-9407-400b457e64ba",
   "metadata": {},
   "source": [
    "### Revenue by Region Insights: \n",
    "- The USA leads as the strongest market with the highest revenue ($523.06), followed by Canada, making North America the dominant region overall.\n",
    "- European countries like France, Germany, and the UK are key secondary markets, providing steady income.\n",
    "- Emerging markets such as Brazil and India show notable sales, highlighting opportunities for growth.\n",
    "- Chile records the lowest revenue among the top 10, suggesting weaker demand in smaller regions."
   ]
  },
  {
   "cell_type": "code",
   "execution_count": null,
   "id": "e4153a22-0df7-4b9f-b2bc-93768f1f2a67",
   "metadata": {},
   "outputs": [],
   "source": [
    "#monthly performance\n",
    "query = \"\"\"\n",
    "SELECT strftime('%Y - %m', InvoiceDate) AS Month,\n",
    "       ROUND(SUM(Total), 2) AS Revenue\n",
    "FROM Invoice\n",
    "GROUP BY Month\n",
    "ORDER BY Month;\n",
    "\"\"\"\n",
    "monthly_perf = pd.read_sql_query(query, conn)\n",
    "print(monthly_perf)"
   ]
  },
  {
   "cell_type": "markdown",
   "id": "f5737857-1f97-4ce4-8e9e-8aad75fa44b5",
   "metadata": {},
   "source": [
    "### Monthly Performance Insights \n",
    "- Revenue stayed relatively stable across most months.\n",
    "- Significant spikes occurred in Jan 2010, Apr & Jun 2011, Aug 2012, and Nov 2013. These peaks suggest seasonal or promotional boosts.\n",
    "- Sharp declines were seen in Nov 2011 and Feb 2013, indicating potential dips in customer activity or lower sales campaigns."
   ]
  },
  {
   "cell_type": "code",
   "execution_count": null,
   "id": "069b0ba9-8e3f-4626-9662-06412aa03b42",
   "metadata": {},
   "outputs": [],
   "source": [
    "#Use of RANK() function\n",
    "query= \"\"\"\n",
    "SELECT CustomerId,\n",
    "       ROUND(SUM(Total), 2) AS Revenue,\n",
    "       RANK() OVER (ORDER BY SUM(Total) DESC) AS Rank\n",
    "FROM Invoice\n",
    "GROUP BY CustomerId\n",
    "LIMIT 10;\n",
    "\"\"\"\n",
    "top_customers = pd.read_sql_query(query, conn)\n",
    "print(top_customers)"
   ]
  },
  {
   "cell_type": "code",
   "execution_count": null,
   "id": "cbbda4e2-e27a-474c-aa12-2dbea190710b",
   "metadata": {},
   "outputs": [],
   "source": [
    "# Plot for monthly revenue\n",
    "plt.figure(figsize=(10,5))\n",
    "plt.plot(monthly_perf[\"Month\"], monthly_perf[\"Revenue\"], marker='o')\n",
    "plt.xticks(rotation=90)\n",
    "plt.title(\"Monthly Revenue Performance\")\n",
    "plt.xlabel(\"Month\")\n",
    "plt.ylabel(\"Revenue\")\n",
    "plt.show()\n"
   ]
  },
  {
   "cell_type": "code",
   "execution_count": null,
   "id": "bba2d860-46c8-46cd-8bac-34c68654df08",
   "metadata": {},
   "outputs": [],
   "source": [
    "import seaborn as sns\n",
    "\n",
    "#Bar Chart for Top selling products\n",
    "plt.figure(figsize=(10,6))\n",
    "sns.barplot(\n",
    "    x=\"Total_Sales\", \n",
    "    y=\"Track\", \n",
    "    data=top_products, \n",
    "    hue=\"Track\",      #link palette to track\n",
    "    palette=\"viridis\", \n",
    "    legend=False        \n",
    ")\n",
    "plt.title(\"Top 10 Selling Tracks\", fontsize=14)\n",
    "plt.xlabel(\"Total Sales\")\n",
    "plt.ylabel(\"Track\")\n",
    "plt.show()"
   ]
  },
  {
   "cell_type": "code",
   "execution_count": null,
   "id": "aa81283b-f2a4-475e-8414-f76cfead0b77",
   "metadata": {},
   "outputs": [],
   "source": [
    "# Bar Chart for Revenue by Country \n",
    "plt.figure(figsize=(10,6))\n",
    "sns.barplot(\n",
    "    x=\"Revenue\", \n",
    "    y=\"Country\", \n",
    "    data=revenue_region, \n",
    "    hue=\"Country\",       #link palette to Country\n",
    "    palette=\"magma\", \n",
    "    legend=False         \n",
    ")\n",
    "plt.title(\"Revenue by Country\", fontsize=14)\n",
    "plt.xlabel(\"Revenue\")\n",
    "plt.ylabel(\"Country\")\n",
    "plt.show()\n"
   ]
  },
  {
   "cell_type": "code",
   "execution_count": null,
   "id": "03e719d3-06e9-4e6d-97b5-4d9ccf48f22a",
   "metadata": {},
   "outputs": [],
   "source": []
  }
 ],
 "metadata": {
  "kernelspec": {
   "display_name": "Python 3 (ipykernel)",
   "language": "python",
   "name": "python3"
  },
  "language_info": {
   "codemirror_mode": {
    "name": "ipython",
    "version": 3
   },
   "file_extension": ".py",
   "mimetype": "text/x-python",
   "name": "python",
   "nbconvert_exporter": "python",
   "pygments_lexer": "ipython3",
   "version": "3.11.4"
  }
 },
 "nbformat": 4,
 "nbformat_minor": 5
}
